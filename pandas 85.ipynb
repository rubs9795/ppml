{
 "cells": [
  {
   "cell_type": "code",
   "execution_count": 1,
   "id": "d19a3755",
   "metadata": {},
   "outputs": [],
   "source": [
    "import pandas as pd"
   ]
  },
  {
   "cell_type": "code",
   "execution_count": 4,
   "id": "7a1657b2",
   "metadata": {},
   "outputs": [
    {
     "name": "stdout",
     "output_type": "stream",
     "text": [
      "Empty DataFrame\n",
      "Columns: []\n",
      "Index: []\n"
     ]
    }
   ],
   "source": [
    "df=pd.DataFrame()\n",
    "print(df)"
   ]
  },
  {
   "cell_type": "code",
   "execution_count": 6,
   "id": "f970581e",
   "metadata": {},
   "outputs": [
    {
     "name": "stdout",
     "output_type": "stream",
     "text": [
      "\n",
      "Series to data frame\n",
      "\n",
      "       Emp  ID\n",
      "0   Parker   2\n",
      "1     John   7\n",
      "2    Smith   9\n",
      "3  William   4\n"
     ]
    }
   ],
   "source": [
    "emp=pd.Series(['Parker','John','Smith','William'])\n",
    "id=pd.Series([2,7,9,4])\n",
    "frame={'Emp':emp,'ID':id}\n",
    "result=pd.DataFrame(frame)\n",
    "print(\"\\nSeries to data frame\\n\")\n",
    "print(result)"
   ]
  },
  {
   "cell_type": "code",
   "execution_count": 7,
   "id": "e1f6e77d",
   "metadata": {},
   "outputs": [
    {
     "name": "stdout",
     "output_type": "stream",
     "text": [
      "\n",
      " Extracting one column:\n",
      "\n",
      "0     Parker\n",
      "1       John\n",
      "2      Smith\n",
      "3    William\n",
      "Name: Emp, dtype: object\n"
     ]
    }
   ],
   "source": [
    "print(\"\\n Extracting one column:\\n\")\n",
    "print(result['Emp'])"
   ]
  },
  {
   "cell_type": "code",
   "execution_count": 9,
   "id": "decc25a7",
   "metadata": {},
   "outputs": [
    {
     "name": "stdout",
     "output_type": "stream",
     "text": [
      "\n",
      "Adding new column:\n",
      "\n",
      "       Emp  ID  Age\n",
      "0   Parker   2    5\n",
      "1     John   7    2\n",
      "2    Smith   9    4\n",
      "3  William   4    3\n"
     ]
    }
   ],
   "source": [
    "print(\"\\nAdding new column:\\n\")\n",
    "result['Age']=pd.Series([5,2,4,3])\n",
    "print(result)"
   ]
  },
  {
   "cell_type": "code",
   "execution_count": 10,
   "id": "1a0b35dc",
   "metadata": {},
   "outputs": [
    {
     "name": "stdout",
     "output_type": "stream",
     "text": [
      "\n",
      "Deleting one column:\n",
      "\n",
      "       Emp  ID\n",
      "0   Parker   2\n",
      "1     John   7\n",
      "2    Smith   9\n",
      "3  William   4\n"
     ]
    }
   ],
   "source": [
    "print(\"\\nDeleting one column:\\n\")\n",
    "del result['Age']\n",
    "print(result)"
   ]
  },
  {
   "cell_type": "code",
   "execution_count": 11,
   "id": "eaeeb081",
   "metadata": {},
   "outputs": [
    {
     "name": "stdout",
     "output_type": "stream",
     "text": [
      "\n",
      "Extracting the third row:\n",
      "\n",
      "Emp    Smith\n",
      "ID         9\n",
      "Name: 2, dtype: object\n"
     ]
    }
   ],
   "source": [
    "print(\"\\nExtracting the third row:\\n\")\n",
    "print(result.loc[2])\n"
   ]
  },
  {
   "cell_type": "code",
   "execution_count": 12,
   "id": "ca0c7426",
   "metadata": {},
   "outputs": [
    {
     "name": "stdout",
     "output_type": "stream",
     "text": [
      "\n",
      "Slice row:\n",
      "      Emp  ID\n",
      "1   John   7\n",
      "2  Smith   9\n"
     ]
    }
   ],
   "source": [
    "print(\"\\nSlice row:\\n\",result[1:3])"
   ]
  },
  {
   "cell_type": "code",
   "execution_count": 15,
   "id": "5dd9cf4b",
   "metadata": {},
   "outputs": [
    {
     "name": "stdout",
     "output_type": "stream",
     "text": [
      "\n",
      "Adding new row values:\n",
      "        Emp   ID\n",
      "0   Parker    2\n",
      "1     John    7\n",
      "2    Smith    9\n",
      "3  William    4\n",
      "0     Dale  123\n",
      "1     Mark  456\n"
     ]
    },
    {
     "name": "stderr",
     "output_type": "stream",
     "text": [
      "C:\\Users\\Tcs\\AppData\\Local\\Temp\\ipykernel_8084\\3845137.py:2: FutureWarning: The frame.append method is deprecated and will be removed from pandas in a future version. Use pandas.concat instead.\n",
      "  print(\"\\nAdding new row values:\\n\",result.append(d2))\n"
     ]
    }
   ],
   "source": [
    "d2=pd.DataFrame([['Dale',123],['Mark',456]],columns=['Emp','ID'])\n",
    "print(\"\\nAdding new row values:\\n\",result.append(d2))\n"
   ]
  },
  {
   "cell_type": "code",
   "execution_count": 17,
   "id": "5221e5fe",
   "metadata": {},
   "outputs": [
    {
     "name": "stdout",
     "output_type": "stream",
     "text": [
      "\n",
      "Deletingparticular row:\n",
      "        Emp  ID\n",
      "0   Parker   2\n",
      "2    Smith   9\n",
      "3  William   4\n"
     ]
    }
   ],
   "source": [
    "print(\"\\nDeletingparticular row:\\n\",result.drop(1))"
   ]
  },
  {
   "cell_type": "code",
   "execution_count": 6,
   "id": "3ec7ab58",
   "metadata": {},
   "outputs": [],
   "source": [
    "import pandas as pd\n",
    "import numpy as np"
   ]
  },
  {
   "cell_type": "code",
   "execution_count": 8,
   "id": "1090081a",
   "metadata": {},
   "outputs": [
    {
     "name": "stdout",
     "output_type": "stream",
     "text": [
      "DataFrame.apply function:\n",
      "\n"
     ]
    }
   ],
   "source": [
    " print(\"DataFrame.apply function:\\n\")\n",
    "info=pd.DataFrame([[3,2]]*3,columns=['A','B'])"
   ]
  },
  {
   "cell_type": "code",
   "execution_count": 17,
   "id": "17a2cb85",
   "metadata": {},
   "outputs": [
    {
     "name": "stdout",
     "output_type": "stream",
     "text": [
      "\n",
      "original dataframe:\n",
      "    A  B\n",
      "0  3  2\n",
      "1  3  4\n"
     ]
    }
   ],
   "source": [
    "print(\"\\noriginal dataframe:\\n\",info)"
   ]
  },
  {
   "cell_type": "code",
   "execution_count": 13,
   "id": "7f341d57",
   "metadata": {},
   "outputs": [
    {
     "name": "stdout",
     "output_type": "stream",
     "text": [
      "\n",
      "Square root of DataFrame:\n",
      "           A         B\n",
      "0  1.732051  1.414214\n",
      "1  1.732051  1.414214\n",
      "2  1.732051  1.414214\n"
     ]
    }
   ],
   "source": [
    "print(\"\\nSquare root of DataFrame:\\n\", info.apply(np.sqrt))"
   ]
  },
  {
   "cell_type": "code",
   "execution_count": 14,
   "id": "9fa55bfc",
   "metadata": {},
   "outputs": [
    {
     "name": "stdout",
     "output_type": "stream",
     "text": [
      "\n",
      "sum of each column:\n",
      " A    9\n",
      "B    6\n",
      "dtype: int64\n"
     ]
    }
   ],
   "source": [
    "print(\"\\nsum of each column:\\n\",info.apply(np.sum,axis=0))"
   ]
  },
  {
   "cell_type": "code",
   "execution_count": 15,
   "id": "cd416883",
   "metadata": {},
   "outputs": [
    {
     "name": "stdout",
     "output_type": "stream",
     "text": [
      "\n",
      "sum of each row:\n",
      " A    9\n",
      "B    6\n",
      "dtype: int64\n"
     ]
    }
   ],
   "source": [
    "print(\"\\nsum of each row:\\n\",info.apply(np.sum,axis=0))"
   ]
  },
  {
   "cell_type": "code",
   "execution_count": 22,
   "id": "06555730",
   "metadata": {},
   "outputs": [],
   "source": [
    "info=pd.DataFrame([[5,8],[9,7]],columns=['A','B'])"
   ]
  },
  {
   "cell_type": "code",
   "execution_count": 26,
   "id": "9e8d56cc",
   "metadata": {},
   "outputs": [
    {
     "name": "stdout",
     "output_type": "stream",
     "text": [
      "\n",
      "original dataframe:\n",
      "    A  B\n",
      "0  5  8\n",
      "1  9  7\n",
      "\n",
      "minimum and maximum of each column:\n",
      "\n",
      "     A  B\n",
      "min  5  7\n",
      "max  9  8\n"
     ]
    }
   ],
   "source": [
    "print(\"\\noriginal dataframe:\\n\",info)\n",
    "print(\"\\nminimum and maximum of each column:\\n\")\n",
    "print(info.agg(['min','max']))"
   ]
  },
  {
   "cell_type": "code",
   "execution_count": 29,
   "id": "c6c681ec",
   "metadata": {},
   "outputs": [
    {
     "name": "stdout",
     "output_type": "stream",
     "text": [
      "\n",
      "dataframe.assign function:\n",
      "\n"
     ]
    }
   ],
   "source": [
    "print(\"\\ndataframe.assign function:\\n\")\n",
    "d2= pd.DataFrame([['dale',123],['mark',143]],columns=['emp','id'])"
   ]
  },
  {
   "cell_type": "code",
   "execution_count": 31,
   "id": "528b8b18",
   "metadata": {},
   "outputs": [
    {
     "name": "stdout",
     "output_type": "stream",
     "text": [
      "\n",
      "original dataframe:\n",
      "    A  B\n",
      "0  5  8\n",
      "1  9  7\n",
      "\n",
      "\u0007dding new column:n     emp   id  age\n",
      "0  dale  123   35\n",
      "1  mark  143   40\n",
      "\n",
      "adding new column:\n",
      "     emp   id  age   sex\n",
      "0  dale  123   35  male\n",
      "1  mark  143   40  male\n"
     ]
    }
   ],
   "source": [
    "print(\"\\noriginal dataframe:\\n\",info)\n",
    "d2['age']=[35,40]\n",
    "print(\"\\n\\adding new column:n\",d2)\n",
    "d=d2.assign(sex=['male','male'])\n",
    "print(\"\\nadding new column:\\n\",d)"
   ]
  },
  {
   "cell_type": "code",
   "execution_count": null,
   "id": "fceb2e63",
   "metadata": {},
   "outputs": [],
   "source": [
    "print('\\ndataframe.sort function:\\n')\n",
    "info=pd.dataframe(np.random.random(5,2),index=[3,4,5,6],columns = ['col3','col4'])\n",
    "print(info)\n",
    "info2=info.soet"
   ]
  }
 ],
 "metadata": {
  "kernelspec": {
   "display_name": "Python 3 (ipykernel)",
   "language": "python",
   "name": "python3"
  },
  "language_info": {
   "codemirror_mode": {
    "name": "ipython",
    "version": 3
   },
   "file_extension": ".py",
   "mimetype": "text/x-python",
   "name": "python",
   "nbconvert_exporter": "python",
   "pygments_lexer": "ipython3",
   "version": "3.9.12"
  }
 },
 "nbformat": 4,
 "nbformat_minor": 5
}
